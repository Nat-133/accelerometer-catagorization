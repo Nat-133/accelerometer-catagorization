{
 "cells": [
  {
   "cell_type": "code",
   "execution_count": 1,
   "metadata": {},
   "outputs": [],
   "source": [
    "import numpy as np\n",
    "import json\n",
    "import os"
   ]
  },
  {
   "cell_type": "code",
   "execution_count": 2,
   "metadata": {},
   "outputs": [],
   "source": [
    "def readData():\n",
    "    dataFolder = \"./data/\"\n",
    "    files = os.listdir(dataFolder)\n",
    "    data = []\n",
    "    for file in files:\n",
    "        path = dataFolder + file\n",
    "        with open(path, \"r\") as f:\n",
    "            raw = f.read()\n",
    "            raw = raw.split(\"\\n\")\n",
    "            for singleRaw in raw[:-1]:\n",
    "                datapoint = json.loads(singleRaw)\n",
    "                readings = datapoint[\"data\"]\n",
    "                hz = len(readings) / ((readings[-1][0] - readings[0][0]) * 10**-9)  # timestamp is in nanoseconds\n",
    "                if (hz > 40):\n",
    "                    data += [datapoint]\n",
    "    return data\n",
    "\n",
    "data = readData()"
   ]
  },
  {
   "cell_type": "code",
   "execution_count": 3,
   "metadata": {},
   "outputs": [],
   "source": [
    "def normalise(dataset):\n",
    "    mu = np.mean(dataset, axis=0)\n",
    "    sigma = np.std(dataset, axis=0)\n",
    "    return (dataset-mu) / sigma\n",
    "\n",
    "def convertData(data):\n",
    "    X, T, truth, misc = [], [], [], []\n",
    "    for d in data:\n",
    "        id = d[\"id\"]\n",
    "        drunk = d[\"drunk\"]\n",
    "        walking = d[\"walking\"]\n",
    "        readings = d[\"data\"]\n",
    "        firstTimestamp = readings[0][0]\n",
    "        convertedReadings = []\n",
    "        timestamps = []\n",
    "        for r in readings:\n",
    "            t, x, y, z = r\n",
    "            timestamp = t - firstTimestamp  # slide so all timestamps start at 0\n",
    "            if timestamp < 30 * 10**9 and len(convertedReadings)<1200:\n",
    "                convertedReadings += [ [x, y, z] ]\n",
    "                timestamps += [t]\n",
    "            if timestamp < 0:\n",
    "                break\n",
    "        else:\n",
    "            if len(convertedReadings) == 1200:\n",
    "                X += [normalise(np.array(convertedReadings))]\n",
    "                T += [timestamps]\n",
    "                truth += [drunk]\n",
    "                misc += [id, walking]\n",
    "    \n",
    "    X = np.array(X)\n",
    "    T = np.array(T)\n",
    "    truth = np.array(truth)\n",
    "    misc = np.array(misc)\n",
    "    return X, T, truth, misc\n",
    "\n",
    "X, T, y, misc = convertData(data)"
   ]
  },
  {
   "cell_type": "code",
   "execution_count": 4,
   "metadata": {},
   "outputs": [
    {
     "name": "stdout",
     "output_type": "stream",
     "text": [
      "std\n",
      " drunk: 0.7368724786990721, 0.09892494222525465\n",
      " sober: 0.6304802762548293, 0.03509731985198614\n",
      "abs\n",
      " drunk: 0.6573243439687027, 0.753607793766834\n",
      " sober: 0.774696403484295, 0.6323333633681668\n",
      "mean\n",
      " drunk: 8.836926701056805e-18, 1.2086175488611933e-16\n",
      " sober: 4.389329712289346e-18, 5.638922308050554e-17\n"
     ]
    }
   ],
   "source": [
    "def analyse(X, y, function, label=''):\n",
    "    drunk = [function(x) for x, l in zip(X,y) if l]\n",
    "    sober = [function(x) for x, l in zip(X,y) if not l]\n",
    "    if label:\n",
    "        print(label)\n",
    "    print(f\" drunk: {np.mean(drunk)}, {np.std(drunk)}\")\n",
    "    print(f\" sober: {np.mean(sober)}, {np.std(sober)}\")\n",
    "\n",
    "analyse(X,y, lambda x: np.std(np.abs(x)), \"std\")\n",
    "\n",
    "analyse(X, y, np.abs, 'abs')\n",
    "\n",
    "analyse(X, y, np.mean, \"mean\")"
   ]
  },
  {
   "cell_type": "code",
   "execution_count": null,
   "metadata": {},
   "outputs": [],
   "source": []
  }
 ],
 "metadata": {
  "interpreter": {
   "hash": "18ef2197edb2ccaea09a13ec8c44fa85be646452b3e74034a1745939785e3244"
  },
  "kernelspec": {
   "display_name": "Python 3.9.0 64-bit",
   "language": "python",
   "name": "python3"
  },
  "language_info": {
   "codemirror_mode": {
    "name": "ipython",
    "version": 3
   },
   "file_extension": ".py",
   "mimetype": "text/x-python",
   "name": "python",
   "nbconvert_exporter": "python",
   "pygments_lexer": "ipython3",
   "version": "3.9.0"
  },
  "orig_nbformat": 4
 },
 "nbformat": 4,
 "nbformat_minor": 2
}
