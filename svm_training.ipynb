{
 "cells": [
  {
   "cell_type": "code",
   "execution_count": 34,
   "metadata": {},
   "outputs": [],
   "source": [
    "import numpy as np\n",
    "import os\n",
    "import json\n",
    "from sklearn.model_selection import train_test_split\n",
    "from sklearn import svm\n",
    "import matplotlib.pyplot as plt\n",
    "from sklearn import metrics"
   ]
  },
  {
   "cell_type": "code",
   "execution_count": 52,
   "metadata": {},
   "outputs": [
    {
     "name": "stdout",
     "output_type": "stream",
     "text": [
      "[233, 654, 389, 1191, 31, 415, 1051, 27, 199, 905, 25, 67, 34, 219, 581, 1563, 1331, 248, 363, 478, 624, 1723, 906, 33, 173, 1011, 637, 665, 648, 123, 332, 821, 1277, 1162, 30, 308, 319, 694, 390, 751, 366, 165, 799, 271, 453, 111, 260]\n"
     ]
    }
   ],
   "source": [
    "def readData():\n",
    "    dataFolder = \"./data/\"\n",
    "    files = os.listdir(dataFolder)\n",
    "    data = []\n",
    "    a = []\n",
    "    for file in files:\n",
    "        path = dataFolder + file\n",
    "        with open(path, \"r\") as f:\n",
    "            raw = f.read()\n",
    "            raw = raw.split(\"\\n\")\n",
    "            for singleRaw in raw[:-1]:\n",
    "                datapoint = json.loads(singleRaw)\n",
    "                readings = datapoint[\"data\"]\n",
    "                hz = len(readings) / ((readings[-1][0] - readings[0][0]) * 10**-9)  # timestamp is in nanoseconds\n",
    "                if (hz > 40):\n",
    "                    data += [datapoint]\n",
    "                else:\n",
    "                    a.append(len(datapoint[\"data\"]))\n",
    "    print(a)\n",
    "\n",
    "    return data\n",
    "\n",
    "data = readData()"
   ]
  },
  {
   "cell_type": "code",
   "execution_count": 26,
   "metadata": {},
   "outputs": [],
   "source": [
    "def normalise(dataset):\n",
    "    mu = np.mean(dataset, axis=0)\n",
    "    sigma = np.std(dataset, axis=0)\n",
    "    return (dataset-mu) / sigma\n",
    "\n",
    "def convertData(data):\n",
    "    X, T, truth, misc = [], [], [], []\n",
    "    for d in data:\n",
    "        id = d[\"id\"]\n",
    "        drunk = d[\"drunk\"]\n",
    "        walking = d[\"walking\"]\n",
    "        readings = d[\"data\"]\n",
    "        firstTimestamp = readings[0][0]\n",
    "        convertedReadings = []\n",
    "        timestamps = []\n",
    "        for r in readings:\n",
    "            t, x, y, z = r\n",
    "            timestamp = t - firstTimestamp  # slide so all timestamps start at 0\n",
    "            if timestamp < 30 * 10**9 and len(convertedReadings)<1200:\n",
    "                convertedReadings += [ [x, y, z] ]\n",
    "                timestamps += [t]\n",
    "            if timestamp < 0:\n",
    "                break\n",
    "        else:\n",
    "            if len(convertedReadings) == 1200:\n",
    "                X += [normalise(np.array(convertedReadings))]\n",
    "                T += [timestamps]\n",
    "                truth += [drunk]\n",
    "                misc += [id, walking]\n",
    "    X = np.array(X)\n",
    "    T = np.array(T)\n",
    "    truth = np.array(truth).astype(int)\n",
    "    misc = np.array(misc)\n",
    "    return X, T, truth, misc\n",
    "\n",
    "\n",
    "\n",
    "X, T, y, misc = convertData(data)"
   ]
  },
  {
   "cell_type": "code",
   "execution_count": 27,
   "metadata": {},
   "outputs": [],
   "source": [
    "def prod(xs):\n",
    "    t = 1\n",
    "    for x in xs:\n",
    "        t *= x\n",
    "    return t\n",
    "\n",
    "def svd (dataset):\n",
    "    a, *b = dataset.shape\n",
    "    twoD = dataset.reshape(a, prod(b))\n",
    "    d = (twoD - twoD.mean(axis=0))\n",
    "    u, ls, vh = np.linalg.svd(d, full_matrices=True)\n",
    "\n",
    "    s = np.zeros((u.shape[0],2))\n",
    "    np.fill_diagonal(s, ls)\n",
    "\n",
    "    dataset_svd = np.dot(d, vh[:2].T)\n",
    "    return dataset_svd\n",
    "\n",
    "Z = svd(X)"
   ]
  },
  {
   "cell_type": "code",
   "execution_count": 28,
   "metadata": {},
   "outputs": [
    {
     "data": {
      "image/png": "[encoded data removed]",
      "text/plain": [
       "<Figure size 864x288 with 3 Axes>"
      ]
     },
     "metadata": {
      "needs_background": "light"
     },
     "output_type": "display_data"
    }
   ],
   "source": [
    "colourmap = plt.cm.Dark2\n",
    "\n",
    "def displaydata(dataset, y):\n",
    "    fig, axes = plt.subplots(ncols=3, figsize=(12,4))\n",
    "    for i in range(2):\n",
    "        thisX = X[y==i]\n",
    "        axes[2].scatter(thisX[:,0], thisX[:,1], color=colourmap(1.*i/2), label=\"drunk\" if i==1 else \"sober\")\n",
    "        axes[i].scatter(thisX[:,0], thisX[:,1], color=colourmap(1.*i/2))\n",
    "    axes[2].legend(loc=\"upper left\")\n",
    "\n",
    "displaydata(Z, y)"
   ]
  },
  {
   "cell_type": "code",
   "execution_count": 29,
   "metadata": {},
   "outputs": [],
   "source": [
    "def getTrainTestSplit(X, y):\n",
    "    X_train, X_test, y_train, y_test = train_test_split(X, y, test_size=0.2, random_state=7)\n",
    "    return X_train, X_test, y_train, y_test\n",
    "\n",
    "Z_train, Z_test, y_train, y_test = getTrainTestSplit(Z, y)\n"
   ]
  },
  {
   "cell_type": "code",
   "execution_count": 41,
   "metadata": {},
   "outputs": [],
   "source": [
    "clf = svm.SVC(kernel=\"rbf\")\n",
    "clf.fit(Z_train, y_train)\n",
    "\n",
    "y_pred = clf.predict(Z)"
   ]
  },
  {
   "cell_type": "code",
   "execution_count": 48,
   "metadata": {},
   "outputs": [
    {
     "name": "stdout",
     "output_type": "stream",
     "text": [
      "accuracy:  0.8253275109170306\n",
      "precision: 0.0\n",
      "recall:    0.0\n"
     ]
    },
    {
     "name": "stderr",
     "output_type": "stream",
     "text": [
      "C:\\Users\\Nat\\AppData\\Local\\Programs\\Python\\Python39\\lib\\site-packages\\sklearn\\metrics\\_classification.py:1318: UndefinedMetricWarning: Precision is ill-defined and being set to 0.0 due to no predicted samples. Use `zero_division` parameter to control this behavior.\n",
      "  _warn_prf(average, modifier, msg_start, len(result))\n"
     ]
    },
    {
     "data": {
      "text/plain": [
       "40"
      ]
     },
     "execution_count": 48,
     "metadata": {},
     "output_type": "execute_result"
    }
   ],
   "source": [
    "accuracy = metrics.accuracy_score(y, y_pred)\n",
    "precision = metrics.precision_score(y, y_pred)\n",
    "recall = metrics.recall_score(y, y_pred)\n",
    "\n",
    "print(f\"accuracy:  {accuracy}\")\n",
    "print(f\"precision: {precision}\")\n",
    "print(f\"recall:    {recall}\")\n",
    "\n",
    "len(y[y==1])\n"
   ]
  },
  {
   "cell_type": "code",
   "execution_count": null,
   "metadata": {},
   "outputs": [],
   "source": []
  }
 ],
 "metadata": {
  "interpreter": {
   "hash": "18ef2197edb2ccaea09a13ec8c44fa85be646452b3e74034a1745939785e3244"
  },
  "kernelspec": {
   "display_name": "Python 3.9.0 64-bit",
   "language": "python",
   "name": "python3"
  },
  "language_info": {
   "codemirror_mode": {
    "name": "ipython",
    "version": 3
   },
   "file_extension": ".py",
   "mimetype": "text/x-python",
   "name": "python",
   "nbconvert_exporter": "python",
   "pygments_lexer": "ipython3",
   "version": "3.9.0"
  },
  "orig_nbformat": 4
 },
 "nbformat": 4,
 "nbformat_minor": 2
}
